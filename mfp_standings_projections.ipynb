{
 "cells": [
  {
   "cell_type": "markdown",
   "metadata": {},
   "source": [
    "# Monterey Flipper Pinball Standings Projections\n",
    "\n",
    "## Purpose\n",
    "This notebook is used to project the final standings of the Monterey Flipper Pinball league.\n",
    "The highest 5 weekly scores for each player are summed at the end of the season to produce a winner.\n",
    "There are 10 weeks total, so you can drop up to 5 scores if you attend every week.\n",
    "\n",
    "As of right now it is the end of week 4, my initial idea is to take your average score and use that to replace any lower scores, as well as the correct number of future weeks.\n",
    "\n",
    "## TODO/Issues\n",
    "- Possibly redo converting the json to a dataframe, there has to be a better way\n",
    "- Projections fail if the average is taken over a player's best games\n",
    "- API fails to pull all players in Winter 17 MFP league, (series_id = 475)"
   ]
  },
  {
   "cell_type": "code",
   "execution_count": 15,
   "metadata": {
    "collapsed": false
   },
   "outputs": [],
   "source": [
    "import pandas as pd\n",
    "import numpy as np\n",
    "import requests\n",
    "import json\n",
    "from collections import defaultdict"
   ]
  },
  {
   "cell_type": "code",
   "execution_count": 16,
   "metadata": {
    "collapsed": true
   },
   "outputs": [],
   "source": [
    "# MatchPlay API with the Series ID for MFP Spring 18\n",
    "series_id = '582'\n",
    "series_url = 'https://matchplay.events/data/series/'+series_id+'/standings'"
   ]
  },
  {
   "cell_type": "code",
   "execution_count": 17,
   "metadata": {
    "collapsed": false
   },
   "outputs": [],
   "source": [
    "# Call the API\n",
    "r = requests.get(series_url)\n",
    "data = r.json()"
   ]
  },
  {
   "cell_type": "code",
   "execution_count": 18,
   "metadata": {
    "collapsed": false
   },
   "outputs": [],
   "source": [
    "# Split up the response, which gives overall standings and also weekly scores (tournament_points)\n",
    "overall = data['overall']\n",
    "overall = pd.DataFrame.from_records(overall)\n",
    "tournament_points = data['tournament_points']"
   ]
  },
  {
   "cell_type": "code",
   "execution_count": 19,
   "metadata": {
    "collapsed": false
   },
   "outputs": [],
   "source": [
    "# Janky code to rearrange the tournament_points json response\n",
    "\n",
    "points = defaultdict(list)\n",
    "num_weeks = 0\n",
    "for week in tournament_points:\n",
    "    if week['status'] != 'planned':\n",
    "        num_weeks += 1\n",
    "        for player in week['points'].items():\n",
    "            points[(player[0],week['tournament_id'])].append(player[1])\n"
   ]
  },
  {
   "cell_type": "code",
   "execution_count": 20,
   "metadata": {
    "collapsed": false
   },
   "outputs": [],
   "source": [
    "# Changing the points dict into a tidy dataframe\n",
    "\n",
    "points_df = pd.DataFrame(points)\n",
    "points_df = points_df.transpose().reset_index(1).pivot(columns='level_1',values=0)"
   ]
  },
  {
   "cell_type": "code",
   "execution_count": null,
   "metadata": {
    "collapsed": true
   },
   "outputs": [],
   "source": []
  },
  {
   "cell_type": "code",
   "execution_count": 21,
   "metadata": {
    "collapsed": true
   },
   "outputs": [],
   "source": [
    "# Url to grab weekly standings for names\n",
    "week_ids = points_df.columns[:num_weeks]\n",
    "tournament_url_a = 'https://matchplay.events/data/tournaments/'\n",
    "tournament_url_b = '/standings'"
   ]
  },
  {
   "cell_type": "code",
   "execution_count": 22,
   "metadata": {
    "collapsed": false
   },
   "outputs": [],
   "source": [
    "player_names = {}\n",
    "for week_id in week_ids:\n",
    "    tournament_url = tournament_url_a + str(week_id) + tournament_url_b\n",
    "    r = requests.get(tournament_url)\n",
    "    data = r.json()\n",
    "    for player in data:\n",
    "        if player['player_id'] not in player_names:\n",
    "            player_names[str(player['player_id'])] = player['name']"
   ]
  },
  {
   "cell_type": "code",
   "execution_count": 23,
   "metadata": {
    "collapsed": false
   },
   "outputs": [],
   "source": [
    "points_df.index = points_df.index.to_series().map(player_names)"
   ]
  },
  {
   "cell_type": "code",
   "execution_count": 24,
   "metadata": {
    "collapsed": false
   },
   "outputs": [],
   "source": [
    "# Apply function that takes the row and does necessary computations for extra columns\n",
    "weeks_left = 10-num_weeks\n",
    "\n",
    "def compute_projections(row):\n",
    "    # Compute average score of all weeks\n",
    "    row['avg_score'] = row[:num_weeks].mean()\n",
    "    \n",
    "    # Number of weeks played\n",
    "    row['num_games'] = row[:num_weeks].count()\n",
    "    \n",
    "    # Total number of points accumulated\n",
    "    row['cur_total'] = sum([points for points in row[:num_weeks] if points > 0])\n",
    "\n",
    "    # Find best five games for a player\n",
    "    best_games = [points for points in row[:num_weeks] if points > 0]\n",
    "    best_games.sort(reverse=True)\n",
    "    best_games = best_games[:5]\n",
    "    \n",
    "    # Find a player's current score, the metric by which players are judged at the end of the season\n",
    "    row['cur_score'] = sum(best_games)\n",
    "    \n",
    "    # Compute average score of a player's best 5 weeks\n",
    "    #row['avg_score'] = row['cur_score']/len(best_games)\n",
    "    \n",
    "    # Exclude a players\n",
    "    best_games_aa = [points for points in best_games if points >= row['avg_score']]\n",
    "    best_games_aa.sort(reverse=True)    \n",
    "    \n",
    "    # mean_adj_score: the points added to a player's projection to supplant their below average games\n",
    "    # initialize variable to 0 for players that have 5 games above their average\n",
    "    #     this may be deprecated by finding the average of the 5 best games instead of all games\n",
    "    row['mean_adj_score'] = 0\n",
    "    \n",
    "    # If a player has five games above their average, no games are replaced by that average\n",
    "    if len(best_games_aa) >= 5:\n",
    "        row['kept_score'] = sum(best_games_aa[:5])\n",
    "        row['proj_score'] = row['kept_score']\n",
    "        \n",
    "    # Replace weeks below average with the average score, depending on how many weeks are left\n",
    "    if len(best_games_aa) < 5:\n",
    "        row['kept_score'] = sum(best_games_aa)\n",
    "        \n",
    "        # replace the weeks below average to fill to 5, or however many weeks are left if it wouldn't be possible\n",
    "        if (5-len(best_games_aa) <= weeks_left):\n",
    "            row['mean_adj_score'] = (5-len(best_games_aa))*row['avg_score']\n",
    "        else:\n",
    "            row['kept_score'] = sum(best_games[:-weeks_left])\n",
    "            row['mean_adj_score'] = weeks_left*row['avg_score']\n",
    "        \n",
    "        # Project final score based on player's average\n",
    "        row['proj_score'] = row['kept_score'] + row['mean_adj_score']\n",
    "    \n",
    "    # Find a player's maximum possible score assuming they score a perfect 35 every remaining week\n",
    "    if weeks_left < 5:\n",
    "        row['max_score_possible'] = sum(best_games[:5-weeks_left]) + weeks_left*35\n",
    "    else:\n",
    "        row['max_score_possible'] = 5*35\n",
    "    \n",
    "    # The number of weeks of average score added to a player's projection,\n",
    "    #   so the number of weeks the player would need to do above average to reach their projection\n",
    "    row['remaining_weeks_above_avg'] = (row['mean_adj_score']/row['avg_score'])\n",
    "    \n",
    "    return row\n"
   ]
  },
  {
   "cell_type": "code",
   "execution_count": 25,
   "metadata": {
    "collapsed": true
   },
   "outputs": [],
   "source": [
    "# Apply the calculations\n",
    "final_points_df = points_df.apply(compute_projections, axis=1)"
   ]
  },
  {
   "cell_type": "code",
   "execution_count": 26,
   "metadata": {
    "collapsed": true
   },
   "outputs": [],
   "source": [
    "current_leader = final_points_df.cur_score.max()\n",
    "\n",
    "# calculate the average a player must get in the remaining games to beat the leader\n",
    "def compute_required_avg(row):\n",
    "    \n",
    "    \n",
    "    return row"
   ]
  },
  {
   "cell_type": "code",
   "execution_count": 27,
   "metadata": {
    "collapsed": false
   },
   "outputs": [],
   "source": [
    "final_points_df = final_points_df.apply(compute_required_avg, axis=1)"
   ]
  },
  {
   "cell_type": "code",
   "execution_count": 29,
   "metadata": {
    "collapsed": false,
    "scrolled": true
   },
   "outputs": [],
   "source": [
    "final_points_df.sort_values('proj_score', ascending = False, inplace=True)"
   ]
  },
  {
   "cell_type": "code",
   "execution_count": null,
   "metadata": {
    "collapsed": true
   },
   "outputs": [],
   "source": []
  }
 ],
 "metadata": {
  "kernelspec": {
   "display_name": "Python [conda env:python2]",
   "language": "python",
   "name": "conda-env-python2-py"
  },
  "language_info": {
   "codemirror_mode": {
    "name": "ipython",
    "version": 2
   },
   "file_extension": ".py",
   "mimetype": "text/x-python",
   "name": "python",
   "nbconvert_exporter": "python",
   "pygments_lexer": "ipython2",
   "version": "2.7.12"
  }
 },
 "nbformat": 4,
 "nbformat_minor": 0
}
